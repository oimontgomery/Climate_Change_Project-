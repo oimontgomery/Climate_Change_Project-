{
 "cells": [
  {
   "cell_type": "code",
   "execution_count": 1,
   "metadata": {},
   "outputs": [],
   "source": [
    "import pandas as pd\n",
    "from datetime import datetime as dt"
   ]
  },
  {
   "cell_type": "code",
   "execution_count": 2,
   "metadata": {},
   "outputs": [],
   "source": [
    "df=pd.read_csv(\"database.csv\",encoding=\"utf8\")"
   ]
  },
  {
   "cell_type": "code",
   "execution_count": 3,
   "metadata": {},
   "outputs": [
    {
     "data": {
      "text/html": [
       "<div>\n",
       "<style scoped>\n",
       "    .dataframe tbody tr th:only-of-type {\n",
       "        vertical-align: middle;\n",
       "    }\n",
       "\n",
       "    .dataframe tbody tr th {\n",
       "        vertical-align: top;\n",
       "    }\n",
       "\n",
       "    .dataframe thead th {\n",
       "        text-align: right;\n",
       "    }\n",
       "</style>\n",
       "<table border=\"1\" class=\"dataframe\">\n",
       "  <thead>\n",
       "    <tr style=\"text-align: right;\">\n",
       "      <th></th>\n",
       "      <th>Declaration Number</th>\n",
       "      <th>Declaration Type</th>\n",
       "      <th>Declaration Date</th>\n",
       "      <th>State</th>\n",
       "      <th>County</th>\n",
       "      <th>Disaster Type</th>\n",
       "      <th>Disaster Title</th>\n",
       "      <th>Start Date</th>\n",
       "      <th>End Date</th>\n",
       "      <th>Close Date</th>\n",
       "      <th>Individual Assistance Program</th>\n",
       "      <th>Individuals &amp; Households Program</th>\n",
       "      <th>Public Assistance Program</th>\n",
       "      <th>Hazard Mitigation Program</th>\n",
       "    </tr>\n",
       "  </thead>\n",
       "  <tbody>\n",
       "    <tr>\n",
       "      <th>0</th>\n",
       "      <td>DR-1</td>\n",
       "      <td>Disaster</td>\n",
       "      <td>05/02/1953</td>\n",
       "      <td>GA</td>\n",
       "      <td>NaN</td>\n",
       "      <td>Tornado</td>\n",
       "      <td>Tornado</td>\n",
       "      <td>05/02/1953</td>\n",
       "      <td>05/02/1953</td>\n",
       "      <td>06/01/1954</td>\n",
       "      <td>Yes</td>\n",
       "      <td>No</td>\n",
       "      <td>Yes</td>\n",
       "      <td>Yes</td>\n",
       "    </tr>\n",
       "    <tr>\n",
       "      <th>1</th>\n",
       "      <td>DR-2</td>\n",
       "      <td>Disaster</td>\n",
       "      <td>05/15/1953</td>\n",
       "      <td>TX</td>\n",
       "      <td>NaN</td>\n",
       "      <td>Tornado</td>\n",
       "      <td>Tornado and Heavy Rainfall</td>\n",
       "      <td>05/15/1953</td>\n",
       "      <td>05/15/1953</td>\n",
       "      <td>01/01/1958</td>\n",
       "      <td>Yes</td>\n",
       "      <td>No</td>\n",
       "      <td>Yes</td>\n",
       "      <td>Yes</td>\n",
       "    </tr>\n",
       "    <tr>\n",
       "      <th>2</th>\n",
       "      <td>DR-3</td>\n",
       "      <td>Disaster</td>\n",
       "      <td>05/29/1953</td>\n",
       "      <td>LA</td>\n",
       "      <td>NaN</td>\n",
       "      <td>Flood</td>\n",
       "      <td>Flood</td>\n",
       "      <td>05/29/1953</td>\n",
       "      <td>05/29/1953</td>\n",
       "      <td>02/01/1960</td>\n",
       "      <td>Yes</td>\n",
       "      <td>No</td>\n",
       "      <td>Yes</td>\n",
       "      <td>Yes</td>\n",
       "    </tr>\n",
       "    <tr>\n",
       "      <th>3</th>\n",
       "      <td>DR-4</td>\n",
       "      <td>Disaster</td>\n",
       "      <td>06/02/1953</td>\n",
       "      <td>MI</td>\n",
       "      <td>NaN</td>\n",
       "      <td>Tornado</td>\n",
       "      <td>Tornado</td>\n",
       "      <td>06/02/1953</td>\n",
       "      <td>06/02/1953</td>\n",
       "      <td>02/01/1956</td>\n",
       "      <td>Yes</td>\n",
       "      <td>No</td>\n",
       "      <td>Yes</td>\n",
       "      <td>Yes</td>\n",
       "    </tr>\n",
       "    <tr>\n",
       "      <th>4</th>\n",
       "      <td>DR-5</td>\n",
       "      <td>Disaster</td>\n",
       "      <td>06/06/1953</td>\n",
       "      <td>MT</td>\n",
       "      <td>NaN</td>\n",
       "      <td>Flood</td>\n",
       "      <td>Floods</td>\n",
       "      <td>06/06/1953</td>\n",
       "      <td>06/06/1953</td>\n",
       "      <td>12/01/1955</td>\n",
       "      <td>Yes</td>\n",
       "      <td>No</td>\n",
       "      <td>Yes</td>\n",
       "      <td>Yes</td>\n",
       "    </tr>\n",
       "  </tbody>\n",
       "</table>\n",
       "</div>"
      ],
      "text/plain": [
       "  Declaration Number Declaration Type Declaration Date State County  \\\n",
       "0               DR-1         Disaster       05/02/1953    GA    NaN   \n",
       "1               DR-2         Disaster       05/15/1953    TX    NaN   \n",
       "2               DR-3         Disaster       05/29/1953    LA    NaN   \n",
       "3               DR-4         Disaster       06/02/1953    MI    NaN   \n",
       "4               DR-5         Disaster       06/06/1953    MT    NaN   \n",
       "\n",
       "  Disaster Type              Disaster Title  Start Date    End Date  \\\n",
       "0       Tornado                     Tornado  05/02/1953  05/02/1953   \n",
       "1       Tornado  Tornado and Heavy Rainfall  05/15/1953  05/15/1953   \n",
       "2         Flood                       Flood  05/29/1953  05/29/1953   \n",
       "3       Tornado                     Tornado  06/02/1953  06/02/1953   \n",
       "4         Flood                      Floods  06/06/1953  06/06/1953   \n",
       "\n",
       "   Close Date Individual Assistance Program Individuals & Households Program  \\\n",
       "0  06/01/1954                           Yes                               No   \n",
       "1  01/01/1958                           Yes                               No   \n",
       "2  02/01/1960                           Yes                               No   \n",
       "3  02/01/1956                           Yes                               No   \n",
       "4  12/01/1955                           Yes                               No   \n",
       "\n",
       "  Public Assistance Program Hazard Mitigation Program  \n",
       "0                       Yes                       Yes  \n",
       "1                       Yes                       Yes  \n",
       "2                       Yes                       Yes  \n",
       "3                       Yes                       Yes  \n",
       "4                       Yes                       Yes  "
      ]
     },
     "execution_count": 3,
     "metadata": {},
     "output_type": "execute_result"
    }
   ],
   "source": [
    "df.head()"
   ]
  },
  {
   "cell_type": "code",
   "execution_count": 4,
   "metadata": {},
   "outputs": [
    {
     "data": {
      "text/html": [
       "<div>\n",
       "<style scoped>\n",
       "    .dataframe tbody tr th:only-of-type {\n",
       "        vertical-align: middle;\n",
       "    }\n",
       "\n",
       "    .dataframe tbody tr th {\n",
       "        vertical-align: top;\n",
       "    }\n",
       "\n",
       "    .dataframe thead th {\n",
       "        text-align: right;\n",
       "    }\n",
       "</style>\n",
       "<table border=\"1\" class=\"dataframe\">\n",
       "  <thead>\n",
       "    <tr style=\"text-align: right;\">\n",
       "      <th></th>\n",
       "      <th>Declaration Date</th>\n",
       "      <th>State</th>\n",
       "      <th>Disaster Type</th>\n",
       "    </tr>\n",
       "  </thead>\n",
       "  <tbody>\n",
       "    <tr>\n",
       "      <th>0</th>\n",
       "      <td>05/02/1953</td>\n",
       "      <td>GA</td>\n",
       "      <td>Tornado</td>\n",
       "    </tr>\n",
       "    <tr>\n",
       "      <th>1</th>\n",
       "      <td>05/15/1953</td>\n",
       "      <td>TX</td>\n",
       "      <td>Tornado</td>\n",
       "    </tr>\n",
       "    <tr>\n",
       "      <th>2</th>\n",
       "      <td>05/29/1953</td>\n",
       "      <td>LA</td>\n",
       "      <td>Flood</td>\n",
       "    </tr>\n",
       "    <tr>\n",
       "      <th>3</th>\n",
       "      <td>06/02/1953</td>\n",
       "      <td>MI</td>\n",
       "      <td>Tornado</td>\n",
       "    </tr>\n",
       "    <tr>\n",
       "      <th>4</th>\n",
       "      <td>06/06/1953</td>\n",
       "      <td>MT</td>\n",
       "      <td>Flood</td>\n",
       "    </tr>\n",
       "  </tbody>\n",
       "</table>\n",
       "</div>"
      ],
      "text/plain": [
       "  Declaration Date State Disaster Type\n",
       "0       05/02/1953    GA       Tornado\n",
       "1       05/15/1953    TX       Tornado\n",
       "2       05/29/1953    LA         Flood\n",
       "3       06/02/1953    MI       Tornado\n",
       "4       06/06/1953    MT         Flood"
      ]
     },
     "execution_count": 4,
     "metadata": {},
     "output_type": "execute_result"
    }
   ],
   "source": [
    "cleandf=df[[\"Declaration Date\",\"State\",\"Disaster Type\"]]\n",
    "cleandf.head()"
   ]
  },
  {
   "cell_type": "code",
   "execution_count": 10,
   "metadata": {},
   "outputs": [
    {
     "data": {
      "text/plain": [
       "pandas.core.series.Series"
      ]
     },
     "execution_count": 10,
     "metadata": {},
     "output_type": "execute_result"
    }
   ],
   "source": [
    "type(df['Declaration Date'])"
   ]
  },
  {
   "cell_type": "code",
   "execution_count": 5,
   "metadata": {},
   "outputs": [
    {
     "name": "stderr",
     "output_type": "stream",
     "text": [
      "C:\\Users\\Sean Lei\\Anaconda3\\lib\\site-packages\\ipykernel_launcher.py:1: SettingWithCopyWarning: \n",
      "A value is trying to be set on a copy of a slice from a DataFrame.\n",
      "Try using .loc[row_indexer,col_indexer] = value instead\n",
      "\n",
      "See the caveats in the documentation: http://pandas.pydata.org/pandas-docs/stable/indexing.html#indexing-view-versus-copy\n",
      "  \"\"\"Entry point for launching an IPython kernel.\n"
     ]
    }
   ],
   "source": [
    "cleandf[\"Declaration_Year\"]=cleandf[\"Declaration Date\"]"
   ]
  },
  {
   "cell_type": "code",
   "execution_count": 6,
   "metadata": {},
   "outputs": [
    {
     "data": {
      "text/plain": [
       "46185"
      ]
     },
     "execution_count": 6,
     "metadata": {},
     "output_type": "execute_result"
    }
   ],
   "source": [
    "total_value_count=cleandf[\"State\"].count()\n",
    "total_value_count"
   ]
  },
  {
   "cell_type": "code",
   "execution_count": 7,
   "metadata": {},
   "outputs": [
    {
     "name": "stderr",
     "output_type": "stream",
     "text": [
      "C:\\Users\\Sean Lei\\Anaconda3\\lib\\site-packages\\IPython\\core\\interactiveshell.py:2961: SettingWithCopyWarning: \n",
      "A value is trying to be set on a copy of a slice from a DataFrame\n",
      "\n",
      "See the caveats in the documentation: http://pandas.pydata.org/pandas-docs/stable/indexing.html#indexing-view-versus-copy\n",
      "  exec(code_obj, self.user_global_ns, self.user_ns)\n"
     ]
    }
   ],
   "source": [
    "for i in range(0,total_value_count):\n",
    "    cleandf[\"Declaration_Year\"][i]=cleandf[\"Declaration_Year\"][i][-4:]"
   ]
  },
  {
   "cell_type": "code",
   "execution_count": 8,
   "metadata": {},
   "outputs": [
    {
     "data": {
      "text/html": [
       "<div>\n",
       "<style scoped>\n",
       "    .dataframe tbody tr th:only-of-type {\n",
       "        vertical-align: middle;\n",
       "    }\n",
       "\n",
       "    .dataframe tbody tr th {\n",
       "        vertical-align: top;\n",
       "    }\n",
       "\n",
       "    .dataframe thead th {\n",
       "        text-align: right;\n",
       "    }\n",
       "</style>\n",
       "<table border=\"1\" class=\"dataframe\">\n",
       "  <thead>\n",
       "    <tr style=\"text-align: right;\">\n",
       "      <th></th>\n",
       "      <th>Declaration Date</th>\n",
       "      <th>State</th>\n",
       "      <th>Disaster Type</th>\n",
       "      <th>Declaration_Year</th>\n",
       "    </tr>\n",
       "  </thead>\n",
       "  <tbody>\n",
       "    <tr>\n",
       "      <th>0</th>\n",
       "      <td>05/02/1953</td>\n",
       "      <td>GA</td>\n",
       "      <td>Tornado</td>\n",
       "      <td>1953</td>\n",
       "    </tr>\n",
       "    <tr>\n",
       "      <th>1</th>\n",
       "      <td>05/15/1953</td>\n",
       "      <td>TX</td>\n",
       "      <td>Tornado</td>\n",
       "      <td>1953</td>\n",
       "    </tr>\n",
       "    <tr>\n",
       "      <th>2</th>\n",
       "      <td>05/29/1953</td>\n",
       "      <td>LA</td>\n",
       "      <td>Flood</td>\n",
       "      <td>1953</td>\n",
       "    </tr>\n",
       "    <tr>\n",
       "      <th>3</th>\n",
       "      <td>06/02/1953</td>\n",
       "      <td>MI</td>\n",
       "      <td>Tornado</td>\n",
       "      <td>1953</td>\n",
       "    </tr>\n",
       "    <tr>\n",
       "      <th>4</th>\n",
       "      <td>06/06/1953</td>\n",
       "      <td>MT</td>\n",
       "      <td>Flood</td>\n",
       "      <td>1953</td>\n",
       "    </tr>\n",
       "  </tbody>\n",
       "</table>\n",
       "</div>"
      ],
      "text/plain": [
       "  Declaration Date State Disaster Type Declaration_Year\n",
       "0       05/02/1953    GA       Tornado             1953\n",
       "1       05/15/1953    TX       Tornado             1953\n",
       "2       05/29/1953    LA         Flood             1953\n",
       "3       06/02/1953    MI       Tornado             1953\n",
       "4       06/06/1953    MT         Flood             1953"
      ]
     },
     "execution_count": 8,
     "metadata": {},
     "output_type": "execute_result"
    }
   ],
   "source": [
    "cleandf.head()"
   ]
  },
  {
   "cell_type": "code",
   "execution_count": 13,
   "metadata": {},
   "outputs": [],
   "source": [
    "gcleandf=cleandf.groupby([\"Declaration_Year\",\"Disaster Type\"])\n",
    "dis_df=gcleandf[\"Disaster Type\"].count()"
   ]
  },
  {
   "cell_type": "code",
   "execution_count": 14,
   "metadata": {},
   "outputs": [],
   "source": [
    "dis_df.to_csv(\"disaster_count.csv\",index=True,header=True)"
   ]
  }
 ],
 "metadata": {
  "kernelspec": {
   "display_name": "Python 3",
   "language": "python",
   "name": "python3"
  },
  "language_info": {
   "codemirror_mode": {
    "name": "ipython",
    "version": 3
   },
   "file_extension": ".py",
   "mimetype": "text/x-python",
   "name": "python",
   "nbconvert_exporter": "python",
   "pygments_lexer": "ipython3",
   "version": "3.7.0"
  }
 },
 "nbformat": 4,
 "nbformat_minor": 2
}
